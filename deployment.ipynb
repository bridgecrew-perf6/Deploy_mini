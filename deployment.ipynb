{
  "nbformat": 4,
  "nbformat_minor": 0,
  "metadata": {
    "colab": {
      "name": "deployment.ipynb",
      "provenance": [],
      "authorship_tag": "ABX9TyNeqSodB7/aEDzvdTlvxdJe",
      "include_colab_link": true
    },
    "kernelspec": {
      "name": "python3",
      "display_name": "Python 3"
    }
  },
  "cells": [
    {
      "cell_type": "markdown",
      "metadata": {
        "id": "view-in-github",
        "colab_type": "text"
      },
      "source": [
        "<a href=\"https://colab.research.google.com/github/chiku27/Deploy_mini/blob/main/deployment.ipynb\" target=\"_parent\"><img src=\"https://colab.research.google.com/assets/colab-badge.svg\" alt=\"Open In Colab\"/></a>"
      ]
    },
    {
      "cell_type": "code",
      "metadata": {
        "colab": {
          "base_uri": "https://localhost:8080/"
        },
        "id": "CZZfoPwVplmX",
        "outputId": "308adda0-ea8d-4d99-c444-0d25a3e0d13b"
      },
      "source": [
        "!pip install flask-ngrok"
      ],
      "execution_count": 1,
      "outputs": [
        {
          "output_type": "stream",
          "text": [
            "Requirement already satisfied: flask-ngrok in /usr/local/lib/python3.6/dist-packages (0.0.25)\n",
            "Requirement already satisfied: requests in /usr/local/lib/python3.6/dist-packages (from flask-ngrok) (2.23.0)\n",
            "Requirement already satisfied: Flask>=0.8 in /usr/local/lib/python3.6/dist-packages (from flask-ngrok) (1.1.2)\n",
            "Requirement already satisfied: certifi>=2017.4.17 in /usr/local/lib/python3.6/dist-packages (from requests->flask-ngrok) (2020.12.5)\n",
            "Requirement already satisfied: chardet<4,>=3.0.2 in /usr/local/lib/python3.6/dist-packages (from requests->flask-ngrok) (3.0.4)\n",
            "Requirement already satisfied: urllib3!=1.25.0,!=1.25.1,<1.26,>=1.21.1 in /usr/local/lib/python3.6/dist-packages (from requests->flask-ngrok) (1.24.3)\n",
            "Requirement already satisfied: idna<3,>=2.5 in /usr/local/lib/python3.6/dist-packages (from requests->flask-ngrok) (2.10)\n",
            "Requirement already satisfied: Werkzeug>=0.15 in /usr/local/lib/python3.6/dist-packages (from Flask>=0.8->flask-ngrok) (1.0.1)\n",
            "Requirement already satisfied: itsdangerous>=0.24 in /usr/local/lib/python3.6/dist-packages (from Flask>=0.8->flask-ngrok) (1.1.0)\n",
            "Requirement already satisfied: click>=5.1 in /usr/local/lib/python3.6/dist-packages (from Flask>=0.8->flask-ngrok) (7.1.2)\n",
            "Requirement already satisfied: Jinja2>=2.10.1 in /usr/local/lib/python3.6/dist-packages (from Flask>=0.8->flask-ngrok) (2.11.2)\n",
            "Requirement already satisfied: MarkupSafe>=0.23 in /usr/local/lib/python3.6/dist-packages (from Jinja2>=2.10.1->Flask>=0.8->flask-ngrok) (1.1.1)\n"
          ],
          "name": "stdout"
        }
      ]
    },
    {
      "cell_type": "code",
      "metadata": {
        "id": "YPQS3cX9eIf7"
      },
      "source": [
        "import numpy as np\r\n",
        "from flask import Flask, request, jsonify, render_template\r\n",
        "import pickle\r\n",
        "import pandas as pd\r\n",
        "from flask_ngrok import run_with_ngrok\r\n",
        "\r\n"
      ],
      "execution_count": 2,
      "outputs": []
    },
    {
      "cell_type": "code",
      "metadata": {
        "colab": {
          "base_uri": "https://localhost:8080/"
        },
        "id": "zyMrdourqG8U",
        "outputId": "01660c5f-e207-4fcc-9f1d-8ea1e37f89c9"
      },
      "source": [
        "from google.colab import drive\r\n",
        "drive.mount('/content/gdrive')"
      ],
      "execution_count": 3,
      "outputs": [
        {
          "output_type": "stream",
          "text": [
            "Drive already mounted at /content/gdrive; to attempt to forcibly remount, call drive.mount(\"/content/gdrive\", force_remount=True).\n"
          ],
          "name": "stdout"
        }
      ]
    },
    {
      "cell_type": "code",
      "metadata": {
        "colab": {
          "base_uri": "https://localhost:8080/"
        },
        "id": "mK6VUo1nvM95",
        "outputId": "9325c653-8d0b-4123-9b47-054ca02a042d"
      },
      "source": [
        " import nltk\r\n",
        " nltk.download('stopwords')"
      ],
      "execution_count": 7,
      "outputs": [
        {
          "output_type": "stream",
          "text": [
            "[nltk_data] Downloading package stopwords to /root/nltk_data...\n",
            "[nltk_data]   Unzipping corpora/stopwords.zip.\n"
          ],
          "name": "stdout"
        },
        {
          "output_type": "execute_result",
          "data": {
            "text/plain": [
              "True"
            ]
          },
          "metadata": {
            "tags": []
          },
          "execution_count": 7
        }
      ]
    },
    {
      "cell_type": "code",
      "metadata": {
        "id": "Tpe9o4dduRJz"
      },
      "source": [
        "from nltk.corpus import stopwords\r\n",
        "from nltk.stem.snowball import SnowballStemmer\r\n",
        "stop_words = set(stopwords.words('english'))\r\n",
        "stemmer=SnowballStemmer('english')\r\n",
        "def stem(text):\r\n",
        "  text1 = [stemmer.stem(word) for word in text.split()]\r\n",
        "  return \" \".join(text1)"
      ],
      "execution_count": 8,
      "outputs": []
    },
    {
      "cell_type": "code",
      "metadata": {
        "id": "Vvo-sgGYu--r"
      },
      "source": [
        "def remov_stops(text):\r\n",
        "  text1=[word.lower() for word in text.split() if word.lower() not in stop_words]\r\n",
        "  return  \" \".join(text1)\r\n",
        "\r\n",
        "def preprocessing(df):\r\n",
        "  df.replace(\"[^a-zA-Z]\",\" \",regex=True, inplace=True)\r\n",
        "  df=df.apply(stem)\r\n",
        "  df=df.apply(remov_stops)\r\n",
        "  return df"
      ],
      "execution_count": 9,
      "outputs": []
    },
    {
      "cell_type": "code",
      "metadata": {
        "id": "jrpNJlqAvxF6"
      },
      "source": [
        "cols=['toxic','severe_toxic','obscene','threat','insult','identity_hate']"
      ],
      "execution_count": 10,
      "outputs": []
    },
    {
      "cell_type": "code",
      "metadata": {
        "id": "_el90ZjRv8wZ"
      },
      "source": [
        "df=pd.read_pickle('/content/gdrive/MyDrive/Mini_Project/new_clean_data1.pkl')\r\n",
        "df_train=df[:1000]\r\n"
      ],
      "execution_count": 11,
      "outputs": []
    },
    {
      "cell_type": "code",
      "metadata": {
        "id": "SLA7NQW6xIy9"
      },
      "source": [
        "from sklearn.feature_extraction.text import CountVectorizer\r\n",
        "cv=CountVectorizer(max_features=4000)\r\n",
        "X= cv.fit_transform(df_train['comment_text']).toarray()\r\n"
      ],
      "execution_count": 12,
      "outputs": []
    },
    {
      "cell_type": "code",
      "metadata": {
        "id": "fDhy4Do414_n"
      },
      "source": [
        "def text_ip(val1):\r\n",
        "  df_ip=pd.DataFrame()\r\n",
        "  df_ip['text']=val1\r\n",
        "  df_ip=df_ip.apply(preprocessing)\r\n",
        "  return df_ip"
      ],
      "execution_count": 39,
      "outputs": []
    },
    {
      "cell_type": "code",
      "metadata": {
        "colab": {
          "base_uri": "https://localhost:8080/"
        },
        "id": "TLnl3i34pfYd",
        "outputId": "7be4ec21-226a-437e-ce4e-3dd674a85366"
      },
      "source": [
        "app = Flask(__name__)\r\n",
        "run_with_ngrok(app)\r\n",
        "filename = '/content/gdrive/MyDrive/Mini_Project/NB_model'\r\n",
        "model = pickle.load(open(filename, 'rb'))\r\n",
        "@app.route('/')\r\n",
        "def imp():\r\n",
        "  return render_template('/content/gdrive/MyDrive/Mini_Project/templates/index.html')\r\n",
        "@app.route('/predict',methods=['POST'])\r\n",
        "def prediction_fun():\r\n",
        "  inp_text=[str(x) for x in request.form.values()]\r\n",
        "  dfx=text_ip(inp_text)\r\n",
        "  X_1=cv.fit_transform(dfx).toarray()\r\n",
        "  df_p={}\r\n",
        "  for col in cols:\r\n",
        "    model.fit(X,df_train[col])\r\n",
        "    pred=model.predict_proba(X_1)[:,1]\r\n",
        "    df_p[col]=pred.tolist()\r\n",
        "    return render_template('/content/gdrive/MyDrive/Mini_Project/templates/index.html', prediction_text='Prediction probabilities are {}'.format(df_p))\r\n",
        "if __name__==\"__main__\":\r\n",
        "  app.run()"
      ],
      "execution_count": 45,
      "outputs": [
        {
          "output_type": "stream",
          "text": [
            " * Serving Flask app \"__main__\" (lazy loading)\n",
            " * Environment: production\n",
            "\u001b[31m   WARNING: This is a development server. Do not use it in a production deployment.\u001b[0m\n",
            "\u001b[2m   Use a production WSGI server instead.\u001b[0m\n",
            " * Debug mode: off\n"
          ],
          "name": "stdout"
        },
        {
          "output_type": "stream",
          "text": [
            " * Running on http://127.0.0.1:5000/ (Press CTRL+C to quit)\n"
          ],
          "name": "stderr"
        },
        {
          "output_type": "stream",
          "text": [
            " * Running on http://2350ff5d7ee2.ngrok.io\n",
            " * Traffic stats available on http://127.0.0.1:4040\n"
          ],
          "name": "stdout"
        },
        {
          "output_type": "stream",
          "text": [
            "[2020-12-12 07:42:30,582] ERROR in app: Exception on / [GET]\n",
            "Traceback (most recent call last):\n",
            "  File \"/usr/local/lib/python3.6/dist-packages/flask/app.py\", line 2447, in wsgi_app\n",
            "    response = self.full_dispatch_request()\n",
            "  File \"/usr/local/lib/python3.6/dist-packages/flask/app.py\", line 1952, in full_dispatch_request\n",
            "    rv = self.handle_user_exception(e)\n",
            "  File \"/usr/local/lib/python3.6/dist-packages/flask/app.py\", line 1821, in handle_user_exception\n",
            "    reraise(exc_type, exc_value, tb)\n",
            "  File \"/usr/local/lib/python3.6/dist-packages/flask/_compat.py\", line 39, in reraise\n",
            "    raise value\n",
            "  File \"/usr/local/lib/python3.6/dist-packages/flask/app.py\", line 1950, in full_dispatch_request\n",
            "    rv = self.dispatch_request()\n",
            "  File \"/usr/local/lib/python3.6/dist-packages/flask/app.py\", line 1936, in dispatch_request\n",
            "    return self.view_functions[rule.endpoint](**req.view_args)\n",
            "  File \"<ipython-input-45-5d3fb7a55093>\", line 7, in imp\n",
            "    return render_template('/content/gdrive/MyDrive/Mini_Project/templates/index.html')\n",
            "  File \"/usr/local/lib/python3.6/dist-packages/flask/templating.py\", line 138, in render_template\n",
            "    ctx.app.jinja_env.get_or_select_template(template_name_or_list),\n",
            "  File \"/usr/local/lib/python3.6/dist-packages/jinja2/environment.py\", line 930, in get_or_select_template\n",
            "    return self.get_template(template_name_or_list, parent, globals)\n",
            "  File \"/usr/local/lib/python3.6/dist-packages/jinja2/environment.py\", line 883, in get_template\n",
            "    return self._load_template(name, self.make_globals(globals))\n",
            "  File \"/usr/local/lib/python3.6/dist-packages/jinja2/environment.py\", line 857, in _load_template\n",
            "    template = self.loader.load(self, name, globals)\n",
            "  File \"/usr/local/lib/python3.6/dist-packages/jinja2/loaders.py\", line 115, in load\n",
            "    source, filename, uptodate = self.get_source(environment, name)\n",
            "  File \"/usr/local/lib/python3.6/dist-packages/flask/templating.py\", line 60, in get_source\n",
            "    return self._get_source_fast(environment, template)\n",
            "  File \"/usr/local/lib/python3.6/dist-packages/flask/templating.py\", line 89, in _get_source_fast\n",
            "    raise TemplateNotFound(template)\n",
            "jinja2.exceptions.TemplateNotFound: /content/gdrive/MyDrive/Mini_Project/templates/index.html\n",
            "127.0.0.1 - - [12/Dec/2020 07:42:30] \"\u001b[35m\u001b[1mGET / HTTP/1.1\u001b[0m\" 500 -\n",
            "127.0.0.1 - - [12/Dec/2020 07:42:31] \"\u001b[33mGET /favicon.ico HTTP/1.1\u001b[0m\" 404 -\n"
          ],
          "name": "stderr"
        }
      ]
    }
  ]
}